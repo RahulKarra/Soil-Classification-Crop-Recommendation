{
  "nbformat": 4,
  "nbformat_minor": 0,
  "metadata": {
    "colab": {
      "provenance": [],
      "gpuType": "T4"
    },
    "kernelspec": {
      "name": "python3",
      "display_name": "Python 3"
    },
    "language_info": {
      "name": "python"
    },
    "accelerator": "GPU"
  },
  "cells": [
    {
      "cell_type": "code",
      "source": [
        "!nvidia-smi"
      ],
      "metadata": {
        "colab": {
          "base_uri": "https://localhost:8080/"
        },
        "id": "Xa5--rHrXv6i",
        "outputId": "11d5369e-98e7-4035-ec52-263456b761d0"
      },
      "execution_count": 1,
      "outputs": [
        {
          "output_type": "stream",
          "name": "stdout",
          "text": [
            "Mon May  5 07:35:46 2025       \n",
            "+-----------------------------------------------------------------------------------------+\n",
            "| NVIDIA-SMI 550.54.15              Driver Version: 550.54.15      CUDA Version: 12.4     |\n",
            "|-----------------------------------------+------------------------+----------------------+\n",
            "| GPU  Name                 Persistence-M | Bus-Id          Disp.A | Volatile Uncorr. ECC |\n",
            "| Fan  Temp   Perf          Pwr:Usage/Cap |           Memory-Usage | GPU-Util  Compute M. |\n",
            "|                                         |                        |               MIG M. |\n",
            "|=========================================+========================+======================|\n",
            "|   0  Tesla T4                       Off |   00000000:00:04.0 Off |                    0 |\n",
            "| N/A   51C    P8              9W /   70W |       0MiB /  15360MiB |      0%      Default |\n",
            "|                                         |                        |                  N/A |\n",
            "+-----------------------------------------+------------------------+----------------------+\n",
            "                                                                                         \n",
            "+-----------------------------------------------------------------------------------------+\n",
            "| Processes:                                                                              |\n",
            "|  GPU   GI   CI        PID   Type   Process name                              GPU Memory |\n",
            "|        ID   ID                                                               Usage      |\n",
            "|=========================================================================================|\n",
            "|  No running processes found                                                             |\n",
            "+-----------------------------------------------------------------------------------------+\n"
          ]
        }
      ]
    },
    {
      "cell_type": "markdown",
      "source": [
        "**Training the Model using VGG 19 Classification**"
      ],
      "metadata": {
        "id": "L_VHKQQMpyDf"
      }
    },
    {
      "cell_type": "code",
      "execution_count": 3,
      "metadata": {
        "colab": {
          "base_uri": "https://localhost:8080/"
        },
        "id": "dCcMbQXNcW2b",
        "outputId": "46209054-dcc3-4324-a5d2-7ac73ab60ad6"
      },
      "outputs": [
        {
          "output_type": "stream",
          "name": "stdout",
          "text": [
            "Found 1488 images belonging to 6 classes.\n",
            "Found 504 images belonging to 6 classes.\n",
            "Downloading data from https://storage.googleapis.com/tensorflow/keras-applications/vgg19/vgg19_weights_tf_dim_ordering_tf_kernels_notop.h5\n",
            "\u001b[1m80134624/80134624\u001b[0m \u001b[32m━━━━━━━━━━━━━━━━━━━━\u001b[0m\u001b[37m\u001b[0m \u001b[1m0s\u001b[0m 0us/step\n"
          ]
        },
        {
          "output_type": "stream",
          "name": "stderr",
          "text": [
            "/usr/local/lib/python3.11/dist-packages/keras/src/trainers/data_adapters/py_dataset_adapter.py:121: UserWarning: Your `PyDataset` class should call `super().__init__(**kwargs)` in its constructor. `**kwargs` can include `workers`, `use_multiprocessing`, `max_queue_size`. Do not pass these arguments to `fit()`, as they will be ignored.\n",
            "  self._warn_if_super_not_called()\n"
          ]
        },
        {
          "output_type": "stream",
          "name": "stdout",
          "text": [
            "Epoch 1/70\n",
            "\u001b[1m47/47\u001b[0m \u001b[32m━━━━━━━━━━━━━━━━━━━━\u001b[0m\u001b[37m\u001b[0m \u001b[1m0s\u001b[0m 13s/step - accuracy: 0.2605 - loss: 1.7876 - precision: 0.3544 - recall: 0.0354 "
          ]
        },
        {
          "output_type": "stream",
          "name": "stderr",
          "text": [
            "WARNING:absl:You are saving your model as an HDF5 file via `model.save()` or `keras.saving.save_model(model)`. This file format is considered legacy. We recommend using instead the native Keras format, e.g. `model.save('my_model.keras')` or `keras.saving.save_model(model, 'my_model.keras')`. \n"
          ]
        },
        {
          "output_type": "stream",
          "name": "stdout",
          "text": [
            "\b\b\b\b\b\b\b\b\b\b\b\b\b\b\b\b\b\b\b\b\b\b\b\b\b\b\b\b\b\b\b\b\b\b\b\b\b\b\b\b\b\b\b\b\b\b\b\b\b\b\b\b\b\b\b\b\b\b\b\b\b\b\b\b\b\b\b\b\b\b\b\b\b\b\b\b\b\b\b\b\b\b\b\b\b\b\b\b\b\b\b\b\b\b\b\b\b\b\b\b\b\b\b\b\b\b\b\b\b\r\u001b[1m47/47\u001b[0m \u001b[32m━━━━━━━━━━━━━━━━━━━━\u001b[0m\u001b[37m\u001b[0m \u001b[1m846s\u001b[0m 18s/step - accuracy: 0.2617 - loss: 1.7861 - precision: 0.3553 - recall: 0.0355 - val_accuracy: 0.1250 - val_loss: 1.7750 - val_precision: 0.0000e+00 - val_recall: 0.0000e+00 - learning_rate: 1.0000e-04\n",
            "Epoch 2/70\n",
            "\u001b[1m47/47\u001b[0m \u001b[32m━━━━━━━━━━━━━━━━━━━━\u001b[0m\u001b[37m\u001b[0m \u001b[1m0s\u001b[0m 773ms/step - accuracy: 0.3865 - loss: 1.5759 - precision: 0.5313 - recall: 0.0655"
          ]
        },
        {
          "output_type": "stream",
          "name": "stderr",
          "text": [
            "WARNING:absl:You are saving your model as an HDF5 file via `model.save()` or `keras.saving.save_model(model)`. This file format is considered legacy. We recommend using instead the native Keras format, e.g. `model.save('my_model.keras')` or `keras.saving.save_model(model, 'my_model.keras')`. \n"
          ]
        },
        {
          "output_type": "stream",
          "name": "stdout",
          "text": [
            "\b\b\b\b\b\b\b\b\b\b\b\b\b\b\b\b\b\b\b\b\b\b\b\b\b\b\b\b\b\b\b\b\b\b\b\b\b\b\b\b\b\b\b\b\b\b\b\b\b\b\b\b\b\b\b\b\b\b\b\b\b\b\b\b\b\b\b\b\b\b\b\b\b\b\b\b\b\b\b\b\b\b\b\b\b\b\b\b\b\b\b\b\b\b\b\b\b\b\b\b\b\b\b\b\b\b\b\b\b\b\b\r\u001b[1m47/47\u001b[0m \u001b[32m━━━━━━━━━━━━━━━━━━━━\u001b[0m\u001b[37m\u001b[0m \u001b[1m41s\u001b[0m 876ms/step - accuracy: 0.3863 - loss: 1.5761 - precision: 0.5299 - recall: 0.0652 - val_accuracy: 0.1944 - val_loss: 1.6237 - val_precision: 0.8125 - val_recall: 0.0258 - learning_rate: 1.0000e-04\n",
            "Epoch 3/70\n",
            "\u001b[1m47/47\u001b[0m \u001b[32m━━━━━━━━━━━━━━━━━━━━\u001b[0m\u001b[37m\u001b[0m \u001b[1m0s\u001b[0m 741ms/step - accuracy: 0.3645 - loss: 1.5705 - precision: 0.5290 - recall: 0.0662"
          ]
        },
        {
          "output_type": "stream",
          "name": "stderr",
          "text": [
            "WARNING:absl:You are saving your model as an HDF5 file via `model.save()` or `keras.saving.save_model(model)`. This file format is considered legacy. We recommend using instead the native Keras format, e.g. `model.save('my_model.keras')` or `keras.saving.save_model(model, 'my_model.keras')`. \n"
          ]
        },
        {
          "output_type": "stream",
          "name": "stdout",
          "text": [
            "\b\b\b\b\b\b\b\b\b\b\b\b\b\b\b\b\b\b\b\b\b\b\b\b\b\b\b\b\b\b\b\b\b\b\b\b\b\b\b\b\b\b\b\b\b\b\b\b\b\b\b\b\b\b\b\b\b\b\b\b\b\b\b\b\b\b\b\b\b\b\b\b\b\b\b\b\b\b\b\b\b\b\b\b\b\b\b\b\b\b\b\b\b\b\b\b\b\b\b\b\b\b\b\b\b\b\b\b\b\b\b\r\u001b[1m47/47\u001b[0m \u001b[32m━━━━━━━━━━━━━━━━━━━━\u001b[0m\u001b[37m\u001b[0m \u001b[1m40s\u001b[0m 841ms/step - accuracy: 0.3651 - loss: 1.5692 - precision: 0.5305 - recall: 0.0669 - val_accuracy: 0.2560 - val_loss: 1.5259 - val_precision: 0.7500 - val_recall: 0.0595 - learning_rate: 1.0000e-04\n",
            "Epoch 4/70\n",
            "\u001b[1m47/47\u001b[0m \u001b[32m━━━━━━━━━━━━━━━━━━━━\u001b[0m\u001b[37m\u001b[0m \u001b[1m0s\u001b[0m 717ms/step - accuracy: 0.4388 - loss: 1.4187 - precision: 0.6514 - recall: 0.1330"
          ]
        },
        {
          "output_type": "stream",
          "name": "stderr",
          "text": [
            "WARNING:absl:You are saving your model as an HDF5 file via `model.save()` or `keras.saving.save_model(model)`. This file format is considered legacy. We recommend using instead the native Keras format, e.g. `model.save('my_model.keras')` or `keras.saving.save_model(model, 'my_model.keras')`. \n"
          ]
        },
        {
          "output_type": "stream",
          "name": "stdout",
          "text": [
            "\b\b\b\b\b\b\b\b\b\b\b\b\b\b\b\b\b\b\b\b\b\b\b\b\b\b\b\b\b\b\b\b\b\b\b\b\b\b\b\b\b\b\b\b\b\b\b\b\b\b\b\b\b\b\b\b\b\b\b\b\b\b\b\b\b\b\b\b\b\b\b\b\b\b\b\b\b\b\b\b\b\b\b\b\b\b\b\b\b\b\b\b\b\b\b\b\b\b\b\b\b\b\b\b\b\b\b\b\b\b\b\r\u001b[1m47/47\u001b[0m \u001b[32m━━━━━━━━━━━━━━━━━━━━\u001b[0m\u001b[37m\u001b[0m \u001b[1m39s\u001b[0m 829ms/step - accuracy: 0.4387 - loss: 1.4185 - precision: 0.6510 - recall: 0.1331 - val_accuracy: 0.3512 - val_loss: 1.3867 - val_precision: 0.8033 - val_recall: 0.0972 - learning_rate: 1.0000e-04\n",
            "Epoch 5/70\n",
            "\u001b[1m47/47\u001b[0m \u001b[32m━━━━━━━━━━━━━━━━━━━━\u001b[0m\u001b[37m\u001b[0m \u001b[1m0s\u001b[0m 720ms/step - accuracy: 0.4503 - loss: 1.3575 - precision: 0.7047 - recall: 0.1638"
          ]
        },
        {
          "output_type": "stream",
          "name": "stderr",
          "text": [
            "WARNING:absl:You are saving your model as an HDF5 file via `model.save()` or `keras.saving.save_model(model)`. This file format is considered legacy. We recommend using instead the native Keras format, e.g. `model.save('my_model.keras')` or `keras.saving.save_model(model, 'my_model.keras')`. \n"
          ]
        },
        {
          "output_type": "stream",
          "name": "stdout",
          "text": [
            "\b\b\b\b\b\b\b\b\b\b\b\b\b\b\b\b\b\b\b\b\b\b\b\b\b\b\b\b\b\b\b\b\b\b\b\b\b\b\b\b\b\b\b\b\b\b\b\b\b\b\b\b\b\b\b\b\b\b\b\b\b\b\b\b\b\b\b\b\b\b\b\b\b\b\b\b\b\b\b\b\b\b\b\b\b\b\b\b\b\b\b\b\b\b\b\b\b\b\b\b\b\b\b\b\b\b\b\b\b\b\b\r\u001b[1m47/47\u001b[0m \u001b[32m━━━━━━━━━━━━━━━━━━━━\u001b[0m\u001b[37m\u001b[0m \u001b[1m39s\u001b[0m 833ms/step - accuracy: 0.4504 - loss: 1.3573 - precision: 0.7040 - recall: 0.1641 - val_accuracy: 0.3968 - val_loss: 1.4270 - val_precision: 0.7204 - val_recall: 0.1329 - learning_rate: 1.0000e-04\n",
            "Epoch 6/70\n",
            "\u001b[1m47/47\u001b[0m \u001b[32m━━━━━━━━━━━━━━━━━━━━\u001b[0m\u001b[37m\u001b[0m \u001b[1m39s\u001b[0m 831ms/step - accuracy: 0.4651 - loss: 1.3270 - precision: 0.6603 - recall: 0.1916 - val_accuracy: 0.3532 - val_loss: 1.3442 - val_precision: 0.4669 - val_recall: 0.2242 - learning_rate: 1.0000e-04\n",
            "Epoch 7/70\n",
            "\u001b[1m47/47\u001b[0m \u001b[32m━━━━━━━━━━━━━━━━━━━━\u001b[0m\u001b[37m\u001b[0m \u001b[1m0s\u001b[0m 709ms/step - accuracy: 0.4875 - loss: 1.2751 - precision: 0.6625 - recall: 0.2430"
          ]
        },
        {
          "output_type": "stream",
          "name": "stderr",
          "text": [
            "WARNING:absl:You are saving your model as an HDF5 file via `model.save()` or `keras.saving.save_model(model)`. This file format is considered legacy. We recommend using instead the native Keras format, e.g. `model.save('my_model.keras')` or `keras.saving.save_model(model, 'my_model.keras')`. \n"
          ]
        },
        {
          "output_type": "stream",
          "name": "stdout",
          "text": [
            "\b\b\b\b\b\b\b\b\b\b\b\b\b\b\b\b\b\b\b\b\b\b\b\b\b\b\b\b\b\b\b\b\b\b\b\b\b\b\b\b\b\b\b\b\b\b\b\b\b\b\b\b\b\b\b\b\b\b\b\b\b\b\b\b\b\b\b\b\b\b\b\b\b\b\b\b\b\b\b\b\b\b\b\b\b\b\b\b\b\b\b\b\b\b\b\b\b\b\b\b\b\b\b\b\b\b\b\b\b\b\b\r\u001b[1m47/47\u001b[0m \u001b[32m━━━━━━━━━━━━━━━━━━━━\u001b[0m\u001b[37m\u001b[0m \u001b[1m41s\u001b[0m 826ms/step - accuracy: 0.4881 - loss: 1.2746 - precision: 0.6627 - recall: 0.2428 - val_accuracy: 0.4940 - val_loss: 1.2295 - val_precision: 0.7087 - val_recall: 0.2897 - learning_rate: 1.0000e-04\n",
            "Epoch 8/70\n",
            "\u001b[1m47/47\u001b[0m \u001b[32m━━━━━━━━━━━━━━━━━━━━\u001b[0m\u001b[37m\u001b[0m \u001b[1m0s\u001b[0m 708ms/step - accuracy: 0.5166 - loss: 1.2342 - precision: 0.7034 - recall: 0.2726"
          ]
        },
        {
          "output_type": "stream",
          "name": "stderr",
          "text": [
            "WARNING:absl:You are saving your model as an HDF5 file via `model.save()` or `keras.saving.save_model(model)`. This file format is considered legacy. We recommend using instead the native Keras format, e.g. `model.save('my_model.keras')` or `keras.saving.save_model(model, 'my_model.keras')`. \n"
          ]
        },
        {
          "output_type": "stream",
          "name": "stdout",
          "text": [
            "\b\b\b\b\b\b\b\b\b\b\b\b\b\b\b\b\b\b\b\b\b\b\b\b\b\b\b\b\b\b\b\b\b\b\b\b\b\b\b\b\b\b\b\b\b\b\b\b\b\b\b\b\b\b\b\b\b\b\b\b\b\b\b\b\b\b\b\b\b\b\b\b\b\b\b\b\b\b\b\b\b\b\b\b\b\b\b\b\b\b\b\b\b\b\b\b\b\b\b\b\b\b\b\b\b\b\b\b\b\b\b\r\u001b[1m47/47\u001b[0m \u001b[32m━━━━━━━━━━━━━━━━━━━━\u001b[0m\u001b[37m\u001b[0m \u001b[1m38s\u001b[0m 812ms/step - accuracy: 0.5167 - loss: 1.2340 - precision: 0.7036 - recall: 0.2725 - val_accuracy: 0.5833 - val_loss: 1.1429 - val_precision: 0.8218 - val_recall: 0.3294 - learning_rate: 1.0000e-04\n",
            "Epoch 9/70\n",
            "\u001b[1m47/47\u001b[0m \u001b[32m━━━━━━━━━━━━━━━━━━━━\u001b[0m\u001b[37m\u001b[0m \u001b[1m39s\u001b[0m 812ms/step - accuracy: 0.5626 - loss: 1.1468 - precision: 0.7473 - recall: 0.3002 - val_accuracy: 0.5159 - val_loss: 1.2430 - val_precision: 0.6790 - val_recall: 0.3651 - learning_rate: 1.0000e-04\n",
            "Epoch 10/70\n",
            "\u001b[1m47/47\u001b[0m \u001b[32m━━━━━━━━━━━━━━━━━━━━\u001b[0m\u001b[37m\u001b[0m \u001b[1m0s\u001b[0m 727ms/step - accuracy: 0.5708 - loss: 1.1369 - precision: 0.7582 - recall: 0.3244"
          ]
        },
        {
          "output_type": "stream",
          "name": "stderr",
          "text": [
            "WARNING:absl:You are saving your model as an HDF5 file via `model.save()` or `keras.saving.save_model(model)`. This file format is considered legacy. We recommend using instead the native Keras format, e.g. `model.save('my_model.keras')` or `keras.saving.save_model(model, 'my_model.keras')`. \n"
          ]
        },
        {
          "output_type": "stream",
          "name": "stdout",
          "text": [
            "\b\b\b\b\b\b\b\b\b\b\b\b\b\b\b\b\b\b\b\b\b\b\b\b\b\b\b\b\b\b\b\b\b\b\b\b\b\b\b\b\b\b\b\b\b\b\b\b\b\b\b\b\b\b\b\b\b\b\b\b\b\b\b\b\b\b\b\b\b\b\b\b\b\b\b\b\b\b\b\b\b\b\b\b\b\b\b\b\b\b\b\b\b\b\b\b\b\b\b\b\b\b\b\b\b\b\b\b\b\b\b\r\u001b[1m47/47\u001b[0m \u001b[32m━━━━━━━━━━━━━━━━━━━━\u001b[0m\u001b[37m\u001b[0m \u001b[1m39s\u001b[0m 826ms/step - accuracy: 0.5706 - loss: 1.1371 - precision: 0.7581 - recall: 0.3244 - val_accuracy: 0.5913 - val_loss: 1.1085 - val_precision: 0.7984 - val_recall: 0.3929 - learning_rate: 1.0000e-04\n",
            "Epoch 11/70\n",
            "\u001b[1m47/47\u001b[0m \u001b[32m━━━━━━━━━━━━━━━━━━━━\u001b[0m\u001b[37m\u001b[0m \u001b[1m0s\u001b[0m 738ms/step - accuracy: 0.5725 - loss: 1.1041 - precision: 0.7358 - recall: 0.3267"
          ]
        },
        {
          "output_type": "stream",
          "name": "stderr",
          "text": [
            "WARNING:absl:You are saving your model as an HDF5 file via `model.save()` or `keras.saving.save_model(model)`. This file format is considered legacy. We recommend using instead the native Keras format, e.g. `model.save('my_model.keras')` or `keras.saving.save_model(model, 'my_model.keras')`. \n"
          ]
        },
        {
          "output_type": "stream",
          "name": "stdout",
          "text": [
            "\b\b\b\b\b\b\b\b\b\b\b\b\b\b\b\b\b\b\b\b\b\b\b\b\b\b\b\b\b\b\b\b\b\b\b\b\b\b\b\b\b\b\b\b\b\b\b\b\b\b\b\b\b\b\b\b\b\b\b\b\b\b\b\b\b\b\b\b\b\b\b\b\b\b\b\b\b\b\b\b\b\b\b\b\b\b\b\b\b\b\b\b\b\b\b\b\b\b\b\b\b\b\b\b\b\b\b\b\b\b\b\r\u001b[1m47/47\u001b[0m \u001b[32m━━━━━━━━━━━━━━━━━━━━\u001b[0m\u001b[37m\u001b[0m \u001b[1m39s\u001b[0m 838ms/step - accuracy: 0.5727 - loss: 1.1041 - precision: 0.7360 - recall: 0.3272 - val_accuracy: 0.6171 - val_loss: 1.0498 - val_precision: 0.7885 - val_recall: 0.4365 - learning_rate: 1.0000e-04\n",
            "Epoch 12/70\n",
            "\u001b[1m47/47\u001b[0m \u001b[32m━━━━━━━━━━━━━━━━━━━━\u001b[0m\u001b[37m\u001b[0m \u001b[1m40s\u001b[0m 839ms/step - accuracy: 0.5977 - loss: 1.0722 - precision: 0.7950 - recall: 0.3721 - val_accuracy: 0.5873 - val_loss: 1.0516 - val_precision: 0.7333 - val_recall: 0.4365 - learning_rate: 1.0000e-04\n",
            "Epoch 13/70\n",
            "\u001b[1m47/47\u001b[0m \u001b[32m━━━━━━━━━━━━━━━━━━━━\u001b[0m\u001b[37m\u001b[0m \u001b[1m39s\u001b[0m 833ms/step - accuracy: 0.6247 - loss: 1.0225 - precision: 0.8124 - recall: 0.4214 - val_accuracy: 0.6071 - val_loss: 1.0309 - val_precision: 0.7672 - val_recall: 0.4643 - learning_rate: 1.0000e-04\n",
            "Epoch 14/70\n",
            "\u001b[1m47/47\u001b[0m \u001b[32m━━━━━━━━━━━━━━━━━━━━\u001b[0m\u001b[37m\u001b[0m \u001b[1m0s\u001b[0m 733ms/step - accuracy: 0.6190 - loss: 1.0020 - precision: 0.7876 - recall: 0.4323"
          ]
        },
        {
          "output_type": "stream",
          "name": "stderr",
          "text": [
            "WARNING:absl:You are saving your model as an HDF5 file via `model.save()` or `keras.saving.save_model(model)`. This file format is considered legacy. We recommend using instead the native Keras format, e.g. `model.save('my_model.keras')` or `keras.saving.save_model(model, 'my_model.keras')`. \n"
          ]
        },
        {
          "output_type": "stream",
          "name": "stdout",
          "text": [
            "\b\b\b\b\b\b\b\b\b\b\b\b\b\b\b\b\b\b\b\b\b\b\b\b\b\b\b\b\b\b\b\b\b\b\b\b\b\b\b\b\b\b\b\b\b\b\b\b\b\b\b\b\b\b\b\b\b\b\b\b\b\b\b\b\b\b\b\b\b\b\b\b\b\b\b\b\b\b\b\b\b\b\b\b\b\b\b\b\b\b\b\b\b\b\b\b\b\b\b\b\b\b\b\b\b\b\b\b\b\b\b\r\u001b[1m47/47\u001b[0m \u001b[32m━━━━━━━━━━━━━━━━━━━━\u001b[0m\u001b[37m\u001b[0m \u001b[1m39s\u001b[0m 838ms/step - accuracy: 0.6191 - loss: 1.0019 - precision: 0.7875 - recall: 0.4322 - val_accuracy: 0.6369 - val_loss: 0.9782 - val_precision: 0.7690 - val_recall: 0.4821 - learning_rate: 1.0000e-04\n",
            "Epoch 15/70\n",
            "\u001b[1m47/47\u001b[0m \u001b[32m━━━━━━━━━━━━━━━━━━━━\u001b[0m\u001b[37m\u001b[0m \u001b[1m0s\u001b[0m 720ms/step - accuracy: 0.6720 - loss: 0.9782 - precision: 0.7875 - recall: 0.4564"
          ]
        },
        {
          "output_type": "stream",
          "name": "stderr",
          "text": [
            "WARNING:absl:You are saving your model as an HDF5 file via `model.save()` or `keras.saving.save_model(model)`. This file format is considered legacy. We recommend using instead the native Keras format, e.g. `model.save('my_model.keras')` or `keras.saving.save_model(model, 'my_model.keras')`. \n"
          ]
        },
        {
          "output_type": "stream",
          "name": "stdout",
          "text": [
            "\b\b\b\b\b\b\b\b\b\b\b\b\b\b\b\b\b\b\b\b\b\b\b\b\b\b\b\b\b\b\b\b\b\b\b\b\b\b\b\b\b\b\b\b\b\b\b\b\b\b\b\b\b\b\b\b\b\b\b\b\b\b\b\b\b\b\b\b\b\b\b\b\b\b\b\b\b\b\b\b\b\b\b\b\b\b\b\b\b\b\b\b\b\b\b\b\b\b\b\b\b\b\b\b\b\b\b\b\b\b\b\r\u001b[1m47/47\u001b[0m \u001b[32m━━━━━━━━━━━━━━━━━━━━\u001b[0m\u001b[37m\u001b[0m \u001b[1m39s\u001b[0m 825ms/step - accuracy: 0.6716 - loss: 0.9782 - precision: 0.7875 - recall: 0.4564 - val_accuracy: 0.6528 - val_loss: 0.9300 - val_precision: 0.7704 - val_recall: 0.5060 - learning_rate: 1.0000e-04\n",
            "Epoch 16/70\n",
            "\u001b[1m47/47\u001b[0m \u001b[32m━━━━━━━━━━━━━━━━━━━━\u001b[0m\u001b[37m\u001b[0m \u001b[1m0s\u001b[0m 716ms/step - accuracy: 0.6584 - loss: 0.9457 - precision: 0.7763 - recall: 0.4694"
          ]
        },
        {
          "output_type": "stream",
          "name": "stderr",
          "text": [
            "WARNING:absl:You are saving your model as an HDF5 file via `model.save()` or `keras.saving.save_model(model)`. This file format is considered legacy. We recommend using instead the native Keras format, e.g. `model.save('my_model.keras')` or `keras.saving.save_model(model, 'my_model.keras')`. \n"
          ]
        },
        {
          "output_type": "stream",
          "name": "stdout",
          "text": [
            "\b\b\b\b\b\b\b\b\b\b\b\b\b\b\b\b\b\b\b\b\b\b\b\b\b\b\b\b\b\b\b\b\b\b\b\b\b\b\b\b\b\b\b\b\b\b\b\b\b\b\b\b\b\b\b\b\b\b\b\b\b\b\b\b\b\b\b\b\b\b\b\b\b\b\b\b\b\b\b\b\b\b\b\b\b\b\b\b\b\b\b\b\b\b\b\b\b\b\b\b\b\b\b\b\b\b\b\b\b\b\b\r\u001b[1m47/47\u001b[0m \u001b[32m━━━━━━━━━━━━━━━━━━━━\u001b[0m\u001b[37m\u001b[0m \u001b[1m39s\u001b[0m 830ms/step - accuracy: 0.6583 - loss: 0.9459 - precision: 0.7763 - recall: 0.4692 - val_accuracy: 0.6865 - val_loss: 0.9173 - val_precision: 0.7917 - val_recall: 0.5278 - learning_rate: 1.0000e-04\n",
            "Epoch 17/70\n",
            "\u001b[1m47/47\u001b[0m \u001b[32m━━━━━━━━━━━━━━━━━━━━\u001b[0m\u001b[37m\u001b[0m \u001b[1m39s\u001b[0m 827ms/step - accuracy: 0.6706 - loss: 0.9365 - precision: 0.8164 - recall: 0.4847 - val_accuracy: 0.6746 - val_loss: 0.9254 - val_precision: 0.7752 - val_recall: 0.5337 - learning_rate: 1.0000e-04\n",
            "Epoch 18/70\n",
            "\u001b[1m47/47\u001b[0m \u001b[32m━━━━━━━━━━━━━━━━━━━━\u001b[0m\u001b[37m\u001b[0m \u001b[1m0s\u001b[0m 718ms/step - accuracy: 0.6708 - loss: 0.9176 - precision: 0.7982 - recall: 0.4911"
          ]
        },
        {
          "output_type": "stream",
          "name": "stderr",
          "text": [
            "WARNING:absl:You are saving your model as an HDF5 file via `model.save()` or `keras.saving.save_model(model)`. This file format is considered legacy. We recommend using instead the native Keras format, e.g. `model.save('my_model.keras')` or `keras.saving.save_model(model, 'my_model.keras')`. \n"
          ]
        },
        {
          "output_type": "stream",
          "name": "stdout",
          "text": [
            "\b\b\b\b\b\b\b\b\b\b\b\b\b\b\b\b\b\b\b\b\b\b\b\b\b\b\b\b\b\b\b\b\b\b\b\b\b\b\b\b\b\b\b\b\b\b\b\b\b\b\b\b\b\b\b\b\b\b\b\b\b\b\b\b\b\b\b\b\b\b\b\b\b\b\b\b\b\b\b\b\b\b\b\b\b\b\b\b\b\b\b\b\b\b\b\b\b\b\b\b\b\b\b\b\b\b\b\b\b\b\b\r\u001b[1m47/47\u001b[0m \u001b[32m━━━━━━━━━━━━━━━━━━━━\u001b[0m\u001b[37m\u001b[0m \u001b[1m39s\u001b[0m 823ms/step - accuracy: 0.6711 - loss: 0.9172 - precision: 0.7984 - recall: 0.4915 - val_accuracy: 0.6905 - val_loss: 0.8728 - val_precision: 0.7899 - val_recall: 0.5595 - learning_rate: 1.0000e-04\n",
            "Epoch 19/70\n",
            "\u001b[1m47/47\u001b[0m \u001b[32m━━━━━━━━━━━━━━━━━━━━\u001b[0m\u001b[37m\u001b[0m \u001b[1m41s\u001b[0m 819ms/step - accuracy: 0.6708 - loss: 0.9124 - precision: 0.7892 - recall: 0.5160 - val_accuracy: 0.6865 - val_loss: 0.8897 - val_precision: 0.7678 - val_recall: 0.5575 - learning_rate: 1.0000e-04\n",
            "Epoch 20/70\n",
            "\u001b[1m47/47\u001b[0m \u001b[32m━━━━━━━━━━━━━━━━━━━━\u001b[0m\u001b[37m\u001b[0m \u001b[1m0s\u001b[0m 731ms/step - accuracy: 0.6602 - loss: 0.8879 - precision: 0.7798 - recall: 0.5339"
          ]
        },
        {
          "output_type": "stream",
          "name": "stderr",
          "text": [
            "WARNING:absl:You are saving your model as an HDF5 file via `model.save()` or `keras.saving.save_model(model)`. This file format is considered legacy. We recommend using instead the native Keras format, e.g. `model.save('my_model.keras')` or `keras.saving.save_model(model, 'my_model.keras')`. \n"
          ]
        },
        {
          "output_type": "stream",
          "name": "stdout",
          "text": [
            "\b\b\b\b\b\b\b\b\b\b\b\b\b\b\b\b\b\b\b\b\b\b\b\b\b\b\b\b\b\b\b\b\b\b\b\b\b\b\b\b\b\b\b\b\b\b\b\b\b\b\b\b\b\b\b\b\b\b\b\b\b\b\b\b\b\b\b\b\b\b\b\b\b\b\b\b\b\b\b\b\b\b\b\b\b\b\b\b\b\b\b\b\b\b\b\b\b\b\b\b\b\b\b\b\b\b\b\b\b\b\b\r\u001b[1m47/47\u001b[0m \u001b[32m━━━━━━━━━━━━━━━━━━━━\u001b[0m\u001b[37m\u001b[0m \u001b[1m40s\u001b[0m 842ms/step - accuracy: 0.6607 - loss: 0.8869 - precision: 0.7805 - recall: 0.5343 - val_accuracy: 0.7163 - val_loss: 0.8475 - val_precision: 0.8000 - val_recall: 0.5873 - learning_rate: 1.0000e-04\n",
            "Epoch 21/70\n",
            "\u001b[1m47/47\u001b[0m \u001b[32m━━━━━━━━━━━━━━━━━━━━\u001b[0m\u001b[37m\u001b[0m \u001b[1m0s\u001b[0m 733ms/step - accuracy: 0.6882 - loss: 0.8648 - precision: 0.8140 - recall: 0.5422"
          ]
        },
        {
          "output_type": "stream",
          "name": "stderr",
          "text": [
            "WARNING:absl:You are saving your model as an HDF5 file via `model.save()` or `keras.saving.save_model(model)`. This file format is considered legacy. We recommend using instead the native Keras format, e.g. `model.save('my_model.keras')` or `keras.saving.save_model(model, 'my_model.keras')`. \n"
          ]
        },
        {
          "output_type": "stream",
          "name": "stdout",
          "text": [
            "\b\b\b\b\b\b\b\b\b\b\b\b\b\b\b\b\b\b\b\b\b\b\b\b\b\b\b\b\b\b\b\b\b\b\b\b\b\b\b\b\b\b\b\b\b\b\b\b\b\b\b\b\b\b\b\b\b\b\b\b\b\b\b\b\b\b\b\b\b\b\b\b\b\b\b\b\b\b\b\b\b\b\b\b\b\b\b\b\b\b\b\b\b\b\b\b\b\b\b\b\b\b\b\b\b\b\b\b\b\b\b\r\u001b[1m47/47\u001b[0m \u001b[32m━━━━━━━━━━━━━━━━━━━━\u001b[0m\u001b[37m\u001b[0m \u001b[1m40s\u001b[0m 838ms/step - accuracy: 0.6886 - loss: 0.8641 - precision: 0.8143 - recall: 0.5425 - val_accuracy: 0.7302 - val_loss: 0.8009 - val_precision: 0.8104 - val_recall: 0.6190 - learning_rate: 1.0000e-04\n",
            "Epoch 22/70\n",
            "\u001b[1m47/47\u001b[0m \u001b[32m━━━━━━━━━━━━━━━━━━━━\u001b[0m\u001b[37m\u001b[0m \u001b[1m0s\u001b[0m 726ms/step - accuracy: 0.6930 - loss: 0.8598 - precision: 0.8124 - recall: 0.5564"
          ]
        },
        {
          "output_type": "stream",
          "name": "stderr",
          "text": [
            "WARNING:absl:You are saving your model as an HDF5 file via `model.save()` or `keras.saving.save_model(model)`. This file format is considered legacy. We recommend using instead the native Keras format, e.g. `model.save('my_model.keras')` or `keras.saving.save_model(model, 'my_model.keras')`. \n"
          ]
        },
        {
          "output_type": "stream",
          "name": "stdout",
          "text": [
            "\b\b\b\b\b\b\b\b\b\b\b\b\b\b\b\b\b\b\b\b\b\b\b\b\b\b\b\b\b\b\b\b\b\b\b\b\b\b\b\b\b\b\b\b\b\b\b\b\b\b\b\b\b\b\b\b\b\b\b\b\b\b\b\b\b\b\b\b\b\b\b\b\b\b\b\b\b\b\b\b\b\b\b\b\b\b\b\b\b\b\b\b\b\b\b\b\b\b\b\b\b\b\b\b\b\b\b\b\b\b\b\r\u001b[1m47/47\u001b[0m \u001b[32m━━━━━━━━━━━━━━━━━━━━\u001b[0m\u001b[37m\u001b[0m \u001b[1m41s\u001b[0m 837ms/step - accuracy: 0.6930 - loss: 0.8595 - precision: 0.8124 - recall: 0.5566 - val_accuracy: 0.7381 - val_loss: 0.8007 - val_precision: 0.8083 - val_recall: 0.6190 - learning_rate: 1.0000e-04\n",
            "Epoch 23/70\n",
            "\u001b[1m47/47\u001b[0m \u001b[32m━━━━━━━━━━━━━━━━━━━━\u001b[0m\u001b[37m\u001b[0m \u001b[1m40s\u001b[0m 839ms/step - accuracy: 0.7187 - loss: 0.8158 - precision: 0.8218 - recall: 0.5868 - val_accuracy: 0.7163 - val_loss: 0.8132 - val_precision: 0.7714 - val_recall: 0.6091 - learning_rate: 1.0000e-04\n",
            "Epoch 24/70\n",
            "\u001b[1m47/47\u001b[0m \u001b[32m━━━━━━━━━━━━━━━━━━━━\u001b[0m\u001b[37m\u001b[0m \u001b[1m0s\u001b[0m 730ms/step - accuracy: 0.7361 - loss: 0.7909 - precision: 0.8259 - recall: 0.6039"
          ]
        },
        {
          "output_type": "stream",
          "name": "stderr",
          "text": [
            "WARNING:absl:You are saving your model as an HDF5 file via `model.save()` or `keras.saving.save_model(model)`. This file format is considered legacy. We recommend using instead the native Keras format, e.g. `model.save('my_model.keras')` or `keras.saving.save_model(model, 'my_model.keras')`. \n"
          ]
        },
        {
          "output_type": "stream",
          "name": "stdout",
          "text": [
            "\b\b\b\b\b\b\b\b\b\b\b\b\b\b\b\b\b\b\b\b\b\b\b\b\b\b\b\b\b\b\b\b\b\b\b\b\b\b\b\b\b\b\b\b\b\b\b\b\b\b\b\b\b\b\b\b\b\b\b\b\b\b\b\b\b\b\b\b\b\b\b\b\b\b\b\b\b\b\b\b\b\b\b\b\b\b\b\b\b\b\b\b\b\b\b\b\b\b\b\b\b\b\b\b\b\b\b\b\b\b\b\r\u001b[1m47/47\u001b[0m \u001b[32m━━━━━━━━━━━━━━━━━━━━\u001b[0m\u001b[37m\u001b[0m \u001b[1m40s\u001b[0m 835ms/step - accuracy: 0.7358 - loss: 0.7909 - precision: 0.8260 - recall: 0.6039 - val_accuracy: 0.7421 - val_loss: 0.7791 - val_precision: 0.8010 - val_recall: 0.6310 - learning_rate: 1.0000e-04\n",
            "Epoch 25/70\n",
            "\u001b[1m47/47\u001b[0m \u001b[32m━━━━━━━━━━━━━━━━━━━━\u001b[0m\u001b[37m\u001b[0m \u001b[1m0s\u001b[0m 718ms/step - accuracy: 0.7380 - loss: 0.7365 - precision: 0.8292 - recall: 0.6028"
          ]
        },
        {
          "output_type": "stream",
          "name": "stderr",
          "text": [
            "WARNING:absl:You are saving your model as an HDF5 file via `model.save()` or `keras.saving.save_model(model)`. This file format is considered legacy. We recommend using instead the native Keras format, e.g. `model.save('my_model.keras')` or `keras.saving.save_model(model, 'my_model.keras')`. \n"
          ]
        },
        {
          "output_type": "stream",
          "name": "stdout",
          "text": [
            "\b\b\b\b\b\b\b\b\b\b\b\b\b\b\b\b\b\b\b\b\b\b\b\b\b\b\b\b\b\b\b\b\b\b\b\b\b\b\b\b\b\b\b\b\b\b\b\b\b\b\b\b\b\b\b\b\b\b\b\b\b\b\b\b\b\b\b\b\b\b\b\b\b\b\b\b\b\b\b\b\b\b\b\b\b\b\b\b\b\b\b\b\b\b\b\b\b\b\b\b\b\b\b\b\b\b\b\b\b\b\b\r\u001b[1m47/47\u001b[0m \u001b[32m━━━━━━━━━━━━━━━━━━━━\u001b[0m\u001b[37m\u001b[0m \u001b[1m40s\u001b[0m 837ms/step - accuracy: 0.7379 - loss: 0.7370 - precision: 0.8292 - recall: 0.6027 - val_accuracy: 0.7460 - val_loss: 0.7615 - val_precision: 0.8148 - val_recall: 0.6548 - learning_rate: 1.0000e-04\n",
            "Epoch 26/70\n",
            "\u001b[1m47/47\u001b[0m \u001b[32m━━━━━━━━━━━━━━━━━━━━\u001b[0m\u001b[37m\u001b[0m \u001b[1m0s\u001b[0m 725ms/step - accuracy: 0.7385 - loss: 0.7456 - precision: 0.8433 - recall: 0.6088"
          ]
        },
        {
          "output_type": "stream",
          "name": "stderr",
          "text": [
            "WARNING:absl:You are saving your model as an HDF5 file via `model.save()` or `keras.saving.save_model(model)`. This file format is considered legacy. We recommend using instead the native Keras format, e.g. `model.save('my_model.keras')` or `keras.saving.save_model(model, 'my_model.keras')`. \n"
          ]
        },
        {
          "output_type": "stream",
          "name": "stdout",
          "text": [
            "\b\b\b\b\b\b\b\b\b\b\b\b\b\b\b\b\b\b\b\b\b\b\b\b\b\b\b\b\b\b\b\b\b\b\b\b\b\b\b\b\b\b\b\b\b\b\b\b\b\b\b\b\b\b\b\b\b\b\b\b\b\b\b\b\b\b\b\b\b\b\b\b\b\b\b\b\b\b\b\b\b\b\b\b\b\b\b\b\b\b\b\b\b\b\b\b\b\b\b\b\b\b\b\b\b\b\b\b\b\b\b\r\u001b[1m47/47\u001b[0m \u001b[32m━━━━━━━━━━━━━━━━━━━━\u001b[0m\u001b[37m\u001b[0m \u001b[1m41s\u001b[0m 844ms/step - accuracy: 0.7385 - loss: 0.7456 - precision: 0.8432 - recall: 0.6089 - val_accuracy: 0.7480 - val_loss: 0.7579 - val_precision: 0.8065 - val_recall: 0.6448 - learning_rate: 1.0000e-04\n",
            "Epoch 27/70\n",
            "\u001b[1m47/47\u001b[0m \u001b[32m━━━━━━━━━━━━━━━━━━━━\u001b[0m\u001b[37m\u001b[0m \u001b[1m0s\u001b[0m 710ms/step - accuracy: 0.7644 - loss: 0.7241 - precision: 0.8517 - recall: 0.6442"
          ]
        },
        {
          "output_type": "stream",
          "name": "stderr",
          "text": [
            "WARNING:absl:You are saving your model as an HDF5 file via `model.save()` or `keras.saving.save_model(model)`. This file format is considered legacy. We recommend using instead the native Keras format, e.g. `model.save('my_model.keras')` or `keras.saving.save_model(model, 'my_model.keras')`. \n"
          ]
        },
        {
          "output_type": "stream",
          "name": "stdout",
          "text": [
            "\b\b\b\b\b\b\b\b\b\b\b\b\b\b\b\b\b\b\b\b\b\b\b\b\b\b\b\b\b\b\b\b\b\b\b\b\b\b\b\b\b\b\b\b\b\b\b\b\b\b\b\b\b\b\b\b\b\b\b\b\b\b\b\b\b\b\b\b\b\b\b\b\b\b\b\b\b\b\b\b\b\b\b\b\b\b\b\b\b\b\b\b\b\b\b\b\b\b\b\b\b\b\b\b\b\b\b\b\b\b\b\r\u001b[1m47/47\u001b[0m \u001b[32m━━━━━━━━━━━━━━━━━━━━\u001b[0m\u001b[37m\u001b[0m \u001b[1m38s\u001b[0m 812ms/step - accuracy: 0.7639 - loss: 0.7245 - precision: 0.8514 - recall: 0.6437 - val_accuracy: 0.7679 - val_loss: 0.7179 - val_precision: 0.8317 - val_recall: 0.6766 - learning_rate: 1.0000e-04\n",
            "Epoch 28/70\n",
            "\u001b[1m47/47\u001b[0m \u001b[32m━━━━━━━━━━━━━━━━━━━━\u001b[0m\u001b[37m\u001b[0m \u001b[1m0s\u001b[0m 750ms/step - accuracy: 0.7370 - loss: 0.7605 - precision: 0.8236 - recall: 0.6307"
          ]
        },
        {
          "output_type": "stream",
          "name": "stderr",
          "text": [
            "WARNING:absl:You are saving your model as an HDF5 file via `model.save()` or `keras.saving.save_model(model)`. This file format is considered legacy. We recommend using instead the native Keras format, e.g. `model.save('my_model.keras')` or `keras.saving.save_model(model, 'my_model.keras')`. \n"
          ]
        },
        {
          "output_type": "stream",
          "name": "stdout",
          "text": [
            "\b\b\b\b\b\b\b\b\b\b\b\b\b\b\b\b\b\b\b\b\b\b\b\b\b\b\b\b\b\b\b\b\b\b\b\b\b\b\b\b\b\b\b\b\b\b\b\b\b\b\b\b\b\b\b\b\b\b\b\b\b\b\b\b\b\b\b\b\b\b\b\b\b\b\b\b\b\b\b\b\b\b\b\b\b\b\b\b\b\b\b\b\b\b\b\b\b\b\b\b\b\b\b\b\b\b\b\b\b\b\b\r\u001b[1m47/47\u001b[0m \u001b[32m━━━━━━━━━━━━━━━━━━━━\u001b[0m\u001b[37m\u001b[0m \u001b[1m40s\u001b[0m 852ms/step - accuracy: 0.7372 - loss: 0.7601 - precision: 0.8239 - recall: 0.6309 - val_accuracy: 0.7738 - val_loss: 0.7251 - val_precision: 0.8211 - val_recall: 0.6647 - learning_rate: 1.0000e-04\n",
            "Epoch 29/70\n",
            "\u001b[1m47/47\u001b[0m \u001b[32m━━━━━━━━━━━━━━━━━━━━\u001b[0m\u001b[37m\u001b[0m \u001b[1m40s\u001b[0m 845ms/step - accuracy: 0.7762 - loss: 0.6999 - precision: 0.8707 - recall: 0.6553 - val_accuracy: 0.7619 - val_loss: 0.7262 - val_precision: 0.8052 - val_recall: 0.6806 - learning_rate: 1.0000e-04\n",
            "Epoch 30/70\n",
            "\u001b[1m47/47\u001b[0m \u001b[32m━━━━━━━━━━━━━━━━━━━━\u001b[0m\u001b[37m\u001b[0m \u001b[1m41s\u001b[0m 837ms/step - accuracy: 0.7524 - loss: 0.7089 - precision: 0.8323 - recall: 0.6461 - val_accuracy: 0.7718 - val_loss: 0.7009 - val_precision: 0.8258 - val_recall: 0.6865 - learning_rate: 1.0000e-04\n",
            "Epoch 31/70\n",
            "\u001b[1m47/47\u001b[0m \u001b[32m━━━━━━━━━━━━━━━━━━━━\u001b[0m\u001b[37m\u001b[0m \u001b[1m39s\u001b[0m 814ms/step - accuracy: 0.7839 - loss: 0.6565 - precision: 0.8716 - recall: 0.6741 - val_accuracy: 0.7698 - val_loss: 0.7089 - val_precision: 0.8169 - val_recall: 0.7083 - learning_rate: 1.0000e-04\n",
            "Epoch 32/70\n",
            "\u001b[1m47/47\u001b[0m \u001b[32m━━━━━━━━━━━━━━━━━━━━\u001b[0m\u001b[37m\u001b[0m \u001b[1m0s\u001b[0m 733ms/step - accuracy: 0.7601 - loss: 0.6428 - precision: 0.8365 - recall: 0.6875"
          ]
        },
        {
          "output_type": "stream",
          "name": "stderr",
          "text": [
            "WARNING:absl:You are saving your model as an HDF5 file via `model.save()` or `keras.saving.save_model(model)`. This file format is considered legacy. We recommend using instead the native Keras format, e.g. `model.save('my_model.keras')` or `keras.saving.save_model(model, 'my_model.keras')`. \n"
          ]
        },
        {
          "output_type": "stream",
          "name": "stdout",
          "text": [
            "\b\b\b\b\b\b\b\b\b\b\b\b\b\b\b\b\b\b\b\b\b\b\b\b\b\b\b\b\b\b\b\b\b\b\b\b\b\b\b\b\b\b\b\b\b\b\b\b\b\b\b\b\b\b\b\b\b\b\b\b\b\b\b\b\b\b\b\b\b\b\b\b\b\b\b\b\b\b\b\b\b\b\b\b\b\b\b\b\b\b\b\b\b\b\b\b\b\b\b\b\b\b\b\b\b\b\b\b\b\b\b\r\u001b[1m47/47\u001b[0m \u001b[32m━━━━━━━━━━━━━━━━━━━━\u001b[0m\u001b[37m\u001b[0m \u001b[1m39s\u001b[0m 833ms/step - accuracy: 0.7601 - loss: 0.6434 - precision: 0.8364 - recall: 0.6872 - val_accuracy: 0.7778 - val_loss: 0.6671 - val_precision: 0.8307 - val_recall: 0.7202 - learning_rate: 1.0000e-04\n",
            "Epoch 33/70\n",
            "\u001b[1m47/47\u001b[0m \u001b[32m━━━━━━━━━━━━━━━━━━━━\u001b[0m\u001b[37m\u001b[0m \u001b[1m39s\u001b[0m 837ms/step - accuracy: 0.8064 - loss: 0.6231 - precision: 0.8731 - recall: 0.7238 - val_accuracy: 0.7778 - val_loss: 0.6823 - val_precision: 0.8213 - val_recall: 0.7202 - learning_rate: 1.0000e-04\n",
            "Epoch 34/70\n",
            "\u001b[1m47/47\u001b[0m \u001b[32m━━━━━━━━━━━━━━━━━━━━\u001b[0m\u001b[37m\u001b[0m \u001b[1m39s\u001b[0m 837ms/step - accuracy: 0.7545 - loss: 0.6971 - precision: 0.8479 - recall: 0.6724 - val_accuracy: 0.7560 - val_loss: 0.7427 - val_precision: 0.7885 - val_recall: 0.6806 - learning_rate: 1.0000e-04\n",
            "Epoch 35/70\n",
            "\u001b[1m47/47\u001b[0m \u001b[32m━━━━━━━━━━━━━━━━━━━━\u001b[0m\u001b[37m\u001b[0m \u001b[1m0s\u001b[0m 740ms/step - accuracy: 0.7748 - loss: 0.6570 - precision: 0.8384 - recall: 0.6937"
          ]
        },
        {
          "output_type": "stream",
          "name": "stderr",
          "text": [
            "WARNING:absl:You are saving your model as an HDF5 file via `model.save()` or `keras.saving.save_model(model)`. This file format is considered legacy. We recommend using instead the native Keras format, e.g. `model.save('my_model.keras')` or `keras.saving.save_model(model, 'my_model.keras')`. \n"
          ]
        },
        {
          "output_type": "stream",
          "name": "stdout",
          "text": [
            "\b\b\b\b\b\b\b\b\b\b\b\b\b\b\b\b\b\b\b\b\b\b\b\b\b\b\b\b\b\b\b\b\b\b\b\b\b\b\b\b\b\b\b\b\b\b\b\b\b\b\b\b\b\b\b\b\b\b\b\b\b\b\b\b\b\b\b\b\b\b\b\b\b\b\b\b\b\b\b\b\b\b\b\b\b\b\b\b\b\b\b\b\b\b\b\b\b\b\b\b\b\b\b\b\b\b\b\b\b\b\b\r\u001b[1m47/47\u001b[0m \u001b[32m━━━━━━━━━━━━━━━━━━━━\u001b[0m\u001b[37m\u001b[0m \u001b[1m40s\u001b[0m 841ms/step - accuracy: 0.7749 - loss: 0.6566 - precision: 0.8387 - recall: 0.6937 - val_accuracy: 0.7877 - val_loss: 0.6783 - val_precision: 0.8299 - val_recall: 0.7163 - learning_rate: 1.0000e-04\n",
            "Epoch 36/70\n",
            "\u001b[1m47/47\u001b[0m \u001b[32m━━━━━━━━━━━━━━━━━━━━\u001b[0m\u001b[37m\u001b[0m \u001b[1m40s\u001b[0m 845ms/step - accuracy: 0.8063 - loss: 0.6047 - precision: 0.8749 - recall: 0.6988 - val_accuracy: 0.7857 - val_loss: 0.6651 - val_precision: 0.8192 - val_recall: 0.7282 - learning_rate: 2.0000e-05\n",
            "Epoch 37/70\n",
            "\u001b[1m47/47\u001b[0m \u001b[32m━━━━━━━━━━━━━━━━━━━━\u001b[0m\u001b[37m\u001b[0m \u001b[1m39s\u001b[0m 838ms/step - accuracy: 0.7839 - loss: 0.6649 - precision: 0.8482 - recall: 0.7085 - val_accuracy: 0.7877 - val_loss: 0.6554 - val_precision: 0.8146 - val_recall: 0.7321 - learning_rate: 2.0000e-05\n",
            "Epoch 38/70\n",
            "\u001b[1m47/47\u001b[0m \u001b[32m━━━━━━━━━━━━━━━━━━━━\u001b[0m\u001b[37m\u001b[0m \u001b[1m39s\u001b[0m 834ms/step - accuracy: 0.7788 - loss: 0.6194 - precision: 0.8616 - recall: 0.7077 - val_accuracy: 0.7877 - val_loss: 0.6541 - val_precision: 0.8263 - val_recall: 0.7361 - learning_rate: 2.0000e-05\n",
            "Epoch 39/70\n",
            "\u001b[1m47/47\u001b[0m \u001b[32m━━━━━━━━━━━━━━━━━━━━\u001b[0m\u001b[37m\u001b[0m \u001b[1m0s\u001b[0m 709ms/step - accuracy: 0.7901 - loss: 0.6199 - precision: 0.8552 - recall: 0.6954"
          ]
        },
        {
          "output_type": "stream",
          "name": "stderr",
          "text": [
            "WARNING:absl:You are saving your model as an HDF5 file via `model.save()` or `keras.saving.save_model(model)`. This file format is considered legacy. We recommend using instead the native Keras format, e.g. `model.save('my_model.keras')` or `keras.saving.save_model(model, 'my_model.keras')`. \n"
          ]
        },
        {
          "output_type": "stream",
          "name": "stdout",
          "text": [
            "\b\b\b\b\b\b\b\b\b\b\b\b\b\b\b\b\b\b\b\b\b\b\b\b\b\b\b\b\b\b\b\b\b\b\b\b\b\b\b\b\b\b\b\b\b\b\b\b\b\b\b\b\b\b\b\b\b\b\b\b\b\b\b\b\b\b\b\b\b\b\b\b\b\b\b\b\b\b\b\b\b\b\b\b\b\b\b\b\b\b\b\b\b\b\b\b\b\b\b\b\b\b\b\b\b\b\b\b\b\b\b\r\u001b[1m47/47\u001b[0m \u001b[32m━━━━━━━━━━━━━━━━━━━━\u001b[0m\u001b[37m\u001b[0m \u001b[1m39s\u001b[0m 827ms/step - accuracy: 0.7903 - loss: 0.6194 - precision: 0.8554 - recall: 0.6956 - val_accuracy: 0.7917 - val_loss: 0.6494 - val_precision: 0.8230 - val_recall: 0.7381 - learning_rate: 2.0000e-05\n",
            "Epoch 40/70\n",
            "\u001b[1m47/47\u001b[0m \u001b[32m━━━━━━━━━━━━━━━━━━━━\u001b[0m\u001b[37m\u001b[0m \u001b[1m39s\u001b[0m 817ms/step - accuracy: 0.7935 - loss: 0.6037 - precision: 0.8798 - recall: 0.7204 - val_accuracy: 0.7897 - val_loss: 0.6524 - val_precision: 0.8184 - val_recall: 0.7421 - learning_rate: 2.0000e-05\n",
            "Epoch 41/70\n",
            "\u001b[1m47/47\u001b[0m \u001b[32m━━━━━━━━━━━━━━━━━━━━\u001b[0m\u001b[37m\u001b[0m \u001b[1m0s\u001b[0m 712ms/step - accuracy: 0.7911 - loss: 0.6039 - precision: 0.8605 - recall: 0.6936"
          ]
        },
        {
          "output_type": "stream",
          "name": "stderr",
          "text": [
            "WARNING:absl:You are saving your model as an HDF5 file via `model.save()` or `keras.saving.save_model(model)`. This file format is considered legacy. We recommend using instead the native Keras format, e.g. `model.save('my_model.keras')` or `keras.saving.save_model(model, 'my_model.keras')`. \n"
          ]
        },
        {
          "output_type": "stream",
          "name": "stdout",
          "text": [
            "\b\b\b\b\b\b\b\b\b\b\b\b\b\b\b\b\b\b\b\b\b\b\b\b\b\b\b\b\b\b\b\b\b\b\b\b\b\b\b\b\b\b\b\b\b\b\b\b\b\b\b\b\b\b\b\b\b\b\b\b\b\b\b\b\b\b\b\b\b\b\b\b\b\b\b\b\b\b\b\b\b\b\b\b\b\b\b\b\b\b\b\b\b\b\b\b\b\b\b\b\b\b\b\b\b\b\b\b\b\b\b\r\u001b[1m47/47\u001b[0m \u001b[32m━━━━━━━━━━━━━━━━━━━━\u001b[0m\u001b[37m\u001b[0m \u001b[1m39s\u001b[0m 831ms/step - accuracy: 0.7911 - loss: 0.6041 - precision: 0.8605 - recall: 0.6938 - val_accuracy: 0.7937 - val_loss: 0.6436 - val_precision: 0.8216 - val_recall: 0.7401 - learning_rate: 2.0000e-05\n",
            "Epoch 42/70\n",
            "\u001b[1m47/47\u001b[0m \u001b[32m━━━━━━━━━━━━━━━━━━━━\u001b[0m\u001b[37m\u001b[0m \u001b[1m40s\u001b[0m 827ms/step - accuracy: 0.8039 - loss: 0.5930 - precision: 0.8807 - recall: 0.7262 - val_accuracy: 0.7917 - val_loss: 0.6367 - val_precision: 0.8208 - val_recall: 0.7361 - learning_rate: 2.0000e-05\n",
            "Epoch 43/70\n",
            "\u001b[1m47/47\u001b[0m \u001b[32m━━━━━━━━━━━━━━━━━━━━\u001b[0m\u001b[37m\u001b[0m \u001b[1m38s\u001b[0m 810ms/step - accuracy: 0.8018 - loss: 0.6215 - precision: 0.8747 - recall: 0.7158 - val_accuracy: 0.7897 - val_loss: 0.6435 - val_precision: 0.8184 - val_recall: 0.7421 - learning_rate: 2.0000e-05\n",
            "Epoch 44/70\n",
            "\u001b[1m47/47\u001b[0m \u001b[32m━━━━━━━━━━━━━━━━━━━━\u001b[0m\u001b[37m\u001b[0m \u001b[1m40s\u001b[0m 846ms/step - accuracy: 0.8002 - loss: 0.6314 - precision: 0.8668 - recall: 0.7181 - val_accuracy: 0.7877 - val_loss: 0.6450 - val_precision: 0.8216 - val_recall: 0.7401 - learning_rate: 2.0000e-05\n",
            "Epoch 45/70\n",
            "\u001b[1m47/47\u001b[0m \u001b[32m━━━━━━━━━━━━━━━━━━━━\u001b[0m\u001b[37m\u001b[0m \u001b[1m39s\u001b[0m 824ms/step - accuracy: 0.8046 - loss: 0.5679 - precision: 0.8778 - recall: 0.7228 - val_accuracy: 0.7897 - val_loss: 0.6430 - val_precision: 0.8139 - val_recall: 0.7460 - learning_rate: 2.0000e-05\n",
            "Epoch 46/70\n",
            "\u001b[1m47/47\u001b[0m \u001b[32m━━━━━━━━━━━━━━━━━━━━\u001b[0m\u001b[37m\u001b[0m \u001b[1m39s\u001b[0m 832ms/step - accuracy: 0.8110 - loss: 0.5893 - precision: 0.8804 - recall: 0.7300 - val_accuracy: 0.7897 - val_loss: 0.6342 - val_precision: 0.8210 - val_recall: 0.7460 - learning_rate: 4.0000e-06\n",
            "Epoch 47/70\n",
            "\u001b[1m47/47\u001b[0m \u001b[32m━━━━━━━━━━━━━━━━━━━━\u001b[0m\u001b[37m\u001b[0m \u001b[1m39s\u001b[0m 828ms/step - accuracy: 0.8012 - loss: 0.6098 - precision: 0.8705 - recall: 0.7174 - val_accuracy: 0.7877 - val_loss: 0.6362 - val_precision: 0.8210 - val_recall: 0.7460 - learning_rate: 4.0000e-06\n",
            "Epoch 48/70\n",
            "\u001b[1m47/47\u001b[0m \u001b[32m━━━━━━━━━━━━━━━━━━━━\u001b[0m\u001b[37m\u001b[0m \u001b[1m38s\u001b[0m 815ms/step - accuracy: 0.8026 - loss: 0.5884 - precision: 0.8761 - recall: 0.7268 - val_accuracy: 0.7877 - val_loss: 0.6367 - val_precision: 0.8192 - val_recall: 0.7460 - learning_rate: 4.0000e-06\n",
            "Epoch 49/70\n",
            "\u001b[1m47/47\u001b[0m \u001b[32m━━━━━━━━━━━━━━━━━━━━\u001b[0m\u001b[37m\u001b[0m \u001b[1m38s\u001b[0m 816ms/step - accuracy: 0.7808 - loss: 0.5997 - precision: 0.8485 - recall: 0.6970 - val_accuracy: 0.7877 - val_loss: 0.6348 - val_precision: 0.8282 - val_recall: 0.7460 - learning_rate: 4.0000e-06\n",
            "Epoch 50/70\n",
            "\u001b[1m47/47\u001b[0m \u001b[32m━━━━━━━━━━━━━━━━━━━━\u001b[0m\u001b[37m\u001b[0m \u001b[1m38s\u001b[0m 800ms/step - accuracy: 0.8018 - loss: 0.5834 - precision: 0.8775 - recall: 0.7093 - val_accuracy: 0.7877 - val_loss: 0.6345 - val_precision: 0.8246 - val_recall: 0.7460 - learning_rate: 1.0000e-06\n",
            "Epoch 51/70\n",
            "\u001b[1m47/47\u001b[0m \u001b[32m━━━━━━━━━━━━━━━━━━━━\u001b[0m\u001b[37m\u001b[0m \u001b[1m42s\u001b[0m 817ms/step - accuracy: 0.7788 - loss: 0.6306 - precision: 0.8623 - recall: 0.6986 - val_accuracy: 0.7877 - val_loss: 0.6345 - val_precision: 0.8282 - val_recall: 0.7460 - learning_rate: 1.0000e-06\n"
          ]
        },
        {
          "output_type": "stream",
          "name": "stderr",
          "text": [
            "WARNING:absl:You are saving your model as an HDF5 file via `model.save()` or `keras.saving.save_model(model)`. This file format is considered legacy. We recommend using instead the native Keras format, e.g. `model.save('my_model.keras')` or `keras.saving.save_model(model, 'my_model.keras')`. \n"
          ]
        },
        {
          "output_type": "stream",
          "name": "stdout",
          "text": [
            "\n",
            "Class Mapping:\n",
            "0: Alluvial soil\n",
            "1: Black Soil\n",
            "2: Clay soil\n",
            "3: NotSoil\n",
            "4: Red soil\n",
            "5: Yellow Soil\n"
          ]
        }
      ],
      "source": [
        "import tensorflow as tf\n",
        "from tensorflow.keras.applications import VGG19\n",
        "from tensorflow.keras.preprocessing.image import ImageDataGenerator\n",
        "from tensorflow.keras.layers import Dense, GlobalAveragePooling2D, Dropout\n",
        "from tensorflow.keras.models import Model\n",
        "import matplotlib.pyplot as plt\n",
        "import numpy as np\n",
        "import os\n",
        "\n",
        "# === Constants ===\n",
        "IMG_SIZE = (224, 224)\n",
        "BATCH_SIZE = 32  # Number of images processed together in one step\n",
        "NUM_CLASSES = 6  # 5 soil types + NotSoil\n",
        "\n",
        "# === Create the Model ===\n",
        "def create_model():\n",
        "    base_model = VGG19(weights='imagenet', include_top=False, input_shape=(*IMG_SIZE, 3))\n",
        "    for layer in base_model.layers:\n",
        "        layer.trainable = False\n",
        "\n",
        " # These are Custom classification Layers of the model\n",
        "    x = base_model.output\n",
        "    x = GlobalAveragePooling2D()(x)\n",
        "    x = Dense(1024, activation='relu')(x)\n",
        "    x = Dropout(0.5)(x)\n",
        "    x = Dense(512, activation='relu')(x)\n",
        "    x = Dropout(0.3)(x)\n",
        "    output = Dense(NUM_CLASSES, activation='softmax')(x)\n",
        "\n",
        "    model = Model(inputs=base_model.input, outputs=output)\n",
        "\n",
        "    model.compile(\n",
        "        optimizer=tf.keras.optimizers.Adam(learning_rate=0.0001),\n",
        "        loss='categorical_crossentropy',\n",
        "        metrics=['accuracy', tf.keras.metrics.Precision(), tf.keras.metrics.Recall()]\n",
        "    )\n",
        "\n",
        "    return model\n",
        "\n",
        "# === Create Generators ===\n",
        "def create_data_generators(train_dir, test_dir):\n",
        "    train_datagen = ImageDataGenerator(\n",
        "        rescale=1./255,\n",
        "        rotation_range=20,\n",
        "        width_shift_range=0.2,\n",
        "        height_shift_range=0.2,\n",
        "        horizontal_flip=True,\n",
        "        vertical_flip=True,\n",
        "        brightness_range=[0.8, 1.2],\n",
        "        zoom_range=0.2,\n",
        "        fill_mode='nearest'\n",
        "    )\n",
        "\n",
        "    test_datagen = ImageDataGenerator(rescale=1./255)\n",
        "\n",
        "    train_gen = train_datagen.flow_from_directory(\n",
        "        train_dir,\n",
        "        target_size=IMG_SIZE,\n",
        "        batch_size=BATCH_SIZE,\n",
        "        class_mode='categorical',\n",
        "        shuffle=True\n",
        "    )\n",
        "\n",
        "    test_gen = test_datagen.flow_from_directory(\n",
        "        test_dir,\n",
        "        target_size=IMG_SIZE,\n",
        "        batch_size=BATCH_SIZE,\n",
        "        class_mode='categorical',\n",
        "        shuffle=False\n",
        "    )\n",
        "\n",
        "    return train_gen, test_gen\n",
        "\n",
        "# === Plot Training History ===\n",
        "def plot_training_history(history):\n",
        "    plt.figure(figsize=(12, 4))\n",
        "\n",
        "    # Accuracy\n",
        "    plt.subplot(1, 2, 1)\n",
        "    plt.plot(history.history['accuracy'], label='Train Accuracy')\n",
        "    plt.plot(history.history['val_accuracy'], label='Val Accuracy')\n",
        "    plt.title('Model Accuracy')\n",
        "    plt.xlabel('Epoch')\n",
        "    plt.ylabel('Accuracy')\n",
        "    plt.legend()\n",
        "\n",
        "    # Loss\n",
        "    plt.subplot(1, 2, 2)\n",
        "    plt.plot(history.history['loss'], label='Train Loss')\n",
        "    plt.plot(history.history['val_loss'], label='Val Loss')\n",
        "    plt.title('Model Loss')\n",
        "    plt.xlabel('Epoch')\n",
        "    plt.ylabel('Loss')\n",
        "    plt.legend()\n",
        "\n",
        "    plt.tight_layout()\n",
        "    plt.savefig('training_history.png')\n",
        "    plt.close()\n",
        "\n",
        "# === Train Function ===\n",
        "def train_model():\n",
        "    train_dir = '/content/drive/MyDrive/SoilClassification_CropRecommendation/Dataset/Train'\n",
        "    test_dir = '/content/drive/MyDrive/SoilClassification_CropRecommendation/Dataset/Test'\n",
        "\n",
        "    train_gen, test_gen = create_data_generators(train_dir, test_dir)\n",
        "    model = create_model()\n",
        "\n",
        "    callbacks = [\n",
        "        tf.keras.callbacks.EarlyStopping(monitor='val_loss', patience=5, restore_best_weights=True),\n",
        "        tf.keras.callbacks.ModelCheckpoint('best_model_checkpoint.h5', monitor='val_accuracy', save_best_only=True),\n",
        "        tf.keras.callbacks.ReduceLROnPlateau(monitor='val_loss', factor=0.2, patience=3, min_lr=1e-6)\n",
        "    ]\n",
        "\n",
        "    history = model.fit(\n",
        "        train_gen,\n",
        "        epochs=70,\n",
        "        validation_data=test_gen,\n",
        "        callbacks=callbacks\n",
        "    )\n",
        "\n",
        "    # Save artifacts\n",
        "    model.save('soil_classification_Updated_model_vgg19.h5')\n",
        "    np.save('class_indices.npy', train_gen.class_indices)\n",
        "    plot_training_history(history)\n",
        "\n",
        "    return model, history, train_gen.class_indices\n",
        "\n",
        "# === Main Execution ===\n",
        "if __name__ == \"__main__\":\n",
        "    model, history, class_indices = train_model()\n",
        "\n",
        "    print(\"\\nClass Mapping:\")\n",
        "    for class_name, index in class_indices.items():\n",
        "        print(f\"{index}: {class_name}\")\n"
      ]
    },
    {
      "cell_type": "markdown",
      "source": [
        "**The Below code is for Testing the Model**"
      ],
      "metadata": {
        "id": "dDbwO68opnhv"
      }
    },
    {
      "cell_type": "code",
      "source": [
        "#Testing code\n",
        "import tensorflow as tf\n",
        "import numpy as np\n",
        "import cv2\n",
        "from tensorflow.keras.models import load_model\n",
        "\n",
        "def load_and_preprocess_image(image_path):\n",
        "    \"\"\"Load and preprocess an image for prediction\"\"\"\n",
        "    img = cv2.imread(image_path)\n",
        "    img = cv2.cvtColor(img, cv2.COLOR_BGR2RGB)\n",
        "    img = cv2.resize(img, (224, 224))\n",
        "    img = img / 255.0\n",
        "    return np.expand_dims(img, axis=0)\n",
        "\n",
        "def predict_image(model, image_path, class_indices):\n",
        "    \"\"\"Predict the class of an image\"\"\"\n",
        "    # Load and preprocess image\n",
        "    img = load_and_preprocess_image(image_path)\n",
        "\n",
        "    # Get prediction\n",
        "    predictions = model.predict(img)\n",
        "\n",
        "    # Get class index and confidence\n",
        "    class_idx = np.argmax(predictions[0])\n",
        "    confidence = predictions[0][class_idx]\n",
        "\n",
        "    # Get class name\n",
        "    class_names = {v: k for k, v in class_indices.items()}\n",
        "    predicted_class = class_names[class_idx]\n",
        "\n",
        "    return predicted_class, confidence\n",
        "\n",
        "def main():\n",
        "    # Load model and class indices\n",
        "    model = load_model('soil_classification_Updated_model_vgg19.h5')\n",
        "    class_indices = np.load('class_indices.npy', allow_pickle=True).item()\n",
        "\n",
        "    # Test images\n",
        "    test_images = [\n",
        "        '/content/drive/MyDrive/SoilClassification_CropRecommendation/Dataset/Train/Alluvial soil/Alluvial_1.jpg',\n",
        "        '/content/drive/MyDrive/SoilClassification_CropRecommendation/Dataset/Train/NotSoil/Turmeric 3.jpg',\n",
        "        '/content/drive/MyDrive/SoilClassification_CropRecommendation/Dataset/Train/NotSoil/istockphoto-1090614334-612x612.jpg'\n",
        "    ]\n",
        "\n",
        "    # Perform predictions\n",
        "    for image_path in test_images:\n",
        "        predicted_class, confidence = predict_image(model, image_path, class_indices)\n",
        "        print(f\"\\nImage: {image_path}\")\n",
        "        print(f\"Predicted class: {predicted_class}\")\n",
        "        print(f\"Confidence: {confidence*100:.2f}%\")\n",
        "\n",
        "        if predicted_class == 'non_soil' or confidence < 0.7:\n",
        "            print(\"This is not a soil image.\")\n",
        "\n",
        "if __name__ == \"__main__\":\n",
        "    main()"
      ],
      "metadata": {
        "colab": {
          "base_uri": "https://localhost:8080/"
        },
        "id": "NSZah5NBvan4",
        "outputId": "24661a86-329e-430e-9bb3-c6ab2420486a"
      },
      "execution_count": 4,
      "outputs": [
        {
          "output_type": "stream",
          "name": "stderr",
          "text": [
            "WARNING:absl:Compiled the loaded model, but the compiled metrics have yet to be built. `model.compile_metrics` will be empty until you train or evaluate the model.\n"
          ]
        },
        {
          "output_type": "stream",
          "name": "stdout",
          "text": [
            "\u001b[1m1/1\u001b[0m \u001b[32m━━━━━━━━━━━━━━━━━━━━\u001b[0m\u001b[37m\u001b[0m \u001b[1m3s\u001b[0m 3s/step\n",
            "\n",
            "Image: /content/drive/MyDrive/SoilClassification_CropRecommendation/Dataset/Train/Alluvial soil/Alluvial_1.jpg\n",
            "Predicted class: Alluvial soil\n",
            "Confidence: 48.40%\n",
            "This is not a soil image.\n",
            "\u001b[1m1/1\u001b[0m \u001b[32m━━━━━━━━━━━━━━━━━━━━\u001b[0m\u001b[37m\u001b[0m \u001b[1m0s\u001b[0m 51ms/step\n",
            "\n",
            "Image: /content/drive/MyDrive/SoilClassification_CropRecommendation/Dataset/Train/NotSoil/Turmeric 3.jpg\n",
            "Predicted class: NotSoil\n",
            "Confidence: 99.75%\n",
            "\u001b[1m1/1\u001b[0m \u001b[32m━━━━━━━━━━━━━━━━━━━━\u001b[0m\u001b[37m\u001b[0m \u001b[1m0s\u001b[0m 50ms/step\n",
            "\n",
            "Image: /content/drive/MyDrive/SoilClassification_CropRecommendation/Dataset/Train/NotSoil/istockphoto-1090614334-612x612.jpg\n",
            "Predicted class: NotSoil\n",
            "Confidence: 72.91%\n"
          ]
        }
      ]
    },
    {
      "cell_type": "code",
      "source": [
        "import numpy as np\n",
        "class_indices = np.load('class_indices.npy', allow_pickle=True).item()\n",
        "print(class_indices)\n"
      ],
      "metadata": {
        "colab": {
          "base_uri": "https://localhost:8080/"
        },
        "id": "Hl4h0RQzX9tu",
        "outputId": "3c6a02dd-daf3-4beb-f642-f8c7292e52ff"
      },
      "execution_count": 5,
      "outputs": [
        {
          "output_type": "stream",
          "name": "stdout",
          "text": [
            "{'Alluvial soil': 0, 'Black Soil': 1, 'Clay soil': 2, 'NotSoil': 3, 'Red soil': 4, 'Yellow Soil': 5}\n"
          ]
        }
      ]
    }
  ]
}